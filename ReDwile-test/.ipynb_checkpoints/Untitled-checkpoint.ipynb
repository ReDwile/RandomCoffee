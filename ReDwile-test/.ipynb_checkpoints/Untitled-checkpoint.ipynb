{
 "cells": [
  {
   "cell_type": "code",
   "execution_count": null,
   "metadata": {},
   "outputs": [],
   "source": [
    "dict_value = {\n",
    "    'name': 'int',\n",
    "    'age': 'str'\n",
    "}\n",
    "\n",
    "keys = list(dict_value.keys())\n",
    "keys"
   ]
  },
  {
   "cell_type": "code",
   "execution_count": null,
   "metadata": {},
   "outputs": [],
   "source": []
  },
  {
   "cell_type": "code",
   "execution_count": 93,
   "metadata": {},
   "outputs": [],
   "source": [
    "import sqlite3"
   ]
  },
  {
   "cell_type": "code",
   "execution_count": 130,
   "metadata": {},
   "outputs": [],
   "source": [
    "class DataBase:\n",
    "    def __init__(self, dbPath: str):\n",
    "        self.conn = sqlite3.connect(dbPath)\n",
    "    \n",
    "    \n",
    "    def createTable(self, NameTable: str, Values: list):\n",
    "        # Values = ['field1 type1', 'field2 type2', ]\n",
    "        self.NameTable = NameTable\n",
    "        cursor = self.conn.cursor()\n",
    "        \n",
    "        TypeField = ', '.join(Values)\n",
    "        script = f\"CREATE TABLE {self.NameTable} ({TypeField})\"\n",
    "        cursor.execute(script)\n",
    "        self.conn.commit()\n",
    "    \n",
    "    \n",
    "    def insert(self, IdUser: int):\n",
    "        cursor = self.conn.cursor()\n",
    "\n",
    "        script = f\"INSERT INTO {self.NameTable} (id) VALUES ({IdUser})\"\n",
    "        cursor.execute(script)\n",
    "        self.conn.commit()\n",
    "    \n",
    "    \n",
    "    def update(self, IdUser: int, Values: dict):\n",
    "\t\t# Values = {field1: value1, field2: value2}\n",
    "        cursor = self.conn.cursor()\n",
    "        \n",
    "        for field, value in Values.items:\n",
    "            if type(value) is str:\n",
    "                script = f\"UPDATE {self.NameTable} SET {field} = '{value}' WHERE relevance = 'Y'\"\n",
    "            else:\n",
    "                script = f\"UPDATE {self.NameTable} SET {field} = {value} WHERE relevance = 'Y'\"\n",
    "            cursor.execute(script)\n",
    "            self.conn.commit()\n",
    "    \n",
    "    \n",
    "    def selectRelevance(self, ColumnsName: list):\n",
    " \t\t# ColumnsName = [field1, field1, ]\n",
    "        cursor = self.conn.cursor()\n",
    "        \n",
    "        columns = ', '.join(ColumnsName)\n",
    "        script = f\"SELECT {columns} FROM {self.NameTable} WHERE relevance = 'Y'\"\n",
    "        cursor.execute(script)\n",
    "        self.conn.commit()\n",
    "        return cursor.fetchall()\n",
    "    \n",
    "    \n",
    "    def select(self, ColumnsName: list):\n",
    " \t\t# ColumnsName = [field1, field1, ]\n",
    "        cursor = self.conn.cursor()\n",
    "        \n",
    "        columns = ', '.join(ColumnsName)\n",
    "        script = f\"SELECT {columns} FROM {self.NameTable}\"\n",
    "        cursor.execute(script)\n",
    "        self.conn.commit()\n",
    "        \n",
    "        self.results = cursor.fetchall()\n",
    "        return self.results\n",
    "    \n",
    "    \n",
    "    def __del__(self):\n",
    "        self.conn.close()"
   ]
  },
  {
   "cell_type": "code",
   "execution_count": null,
   "metadata": {},
   "outputs": [],
   "source": []
  },
  {
   "cell_type": "code",
   "execution_count": 132,
   "metadata": {},
   "outputs": [
    {
     "data": {
      "text/plain": [
       "[]"
      ]
     },
     "execution_count": 132,
     "metadata": {},
     "output_type": "execute_result"
    }
   ],
   "source": [
    "# Если программу запускаете впервые\n",
    "DB = DataBase('test.db')\n",
    "column_name = [\n",
    "    'id integer',\n",
    "    'name text'\n",
    "]\n",
    "DB.createTable('InfoOnUsers', column_name)\n",
    "stroka = DB.select(['*'])\n",
    "stroka"
   ]
  },
  {
   "cell_type": "code",
   "execution_count": 135,
   "metadata": {},
   "outputs": [],
   "source": [
    "DB.insert(2)"
   ]
  },
  {
   "cell_type": "code",
   "execution_count": 136,
   "metadata": {},
   "outputs": [
    {
     "data": {
      "text/plain": [
       "[(1, None), (2, None)]"
      ]
     },
     "execution_count": 136,
     "metadata": {},
     "output_type": "execute_result"
    }
   ],
   "source": [
    "stroka = DB.select(['*'])\n",
    "stroka"
   ]
  },
  {
   "cell_type": "code",
   "execution_count": 113,
   "metadata": {},
   "outputs": [
    {
     "ename": "NameError",
     "evalue": "name 'text' is not defined",
     "output_type": "error",
     "traceback": [
      "\u001b[1;31m---------------------------------------------------------------------------\u001b[0m",
      "\u001b[1;31mNameError\u001b[0m                                 Traceback (most recent call last)",
      "\u001b[1;32m<ipython-input-113-aa785adca3fc>\u001b[0m in \u001b[0;36m<module>\u001b[1;34m\u001b[0m\n\u001b[1;32m----> 1\u001b[1;33m \u001b[0mtext\u001b[0m\u001b[1;33m\u001b[0m\u001b[1;33m\u001b[0m\u001b[0m\n\u001b[0m",
      "\u001b[1;31mNameError\u001b[0m: name 'text' is not defined"
     ]
    }
   ],
   "source": [
    "colu"
   ]
  },
  {
   "cell_type": "code",
   "execution_count": null,
   "metadata": {},
   "outputs": [],
   "source": []
  },
  {
   "cell_type": "code",
   "execution_count": null,
   "metadata": {},
   "outputs": [],
   "source": []
  },
  {
   "cell_type": "code",
   "execution_count": null,
   "metadata": {},
   "outputs": [],
   "source": []
  },
  {
   "cell_type": "code",
   "execution_count": null,
   "metadata": {},
   "outputs": [],
   "source": []
  },
  {
   "cell_type": "code",
   "execution_count": null,
   "metadata": {},
   "outputs": [],
   "source": []
  },
  {
   "cell_type": "code",
   "execution_count": 131,
   "metadata": {},
   "outputs": [],
   "source": [
    "import sqlite3\n",
    "\n",
    "# Создаем соединение с нашей базой данных\n",
    "# В нашем примере у нас это просто файл базы\n",
    "conn = sqlite3.connect('test.db')\n",
    "\n",
    "# Создаем курсор - это специальный объект который делает запросы и получает их результаты\n",
    "cursor = conn.cursor()\n",
    "\n",
    "# cursor.execute(\"CREATE TABLE Info (name text, age integer, surname text, id integer)\")\n",
    "# conn.commit()\n",
    "\n",
    "# cursor.execute(\"INSERT INTO Info (id, name, surname, age) VALUES (2, 'Sergey', 'Alexin', 21)\")\n",
    "# conn.commit()\n",
    "\n",
    "# cursor.execute(\"INSERT INTO Info (id) VALUES (3)\")\n",
    "# conn.commit()\n",
    "\n",
    "# cursor.execute(\"UPDATE Info SET surname = 'Sysoev' WHERE id = 1\")\n",
    "# conn.commit()\n",
    "\n",
    "# cursor.execute(\"SELECT * FROM Info WHERE id = 3\")\n",
    "# conn.commit()\n",
    "\n",
    "cursor.execute(\"DROP TABLE InfoOnUsers\")\n",
    "conn.commit()\n",
    "\n",
    "# Получаем результат сделанного запроса\n",
    "# results = cursor.fetchall()\n",
    "# print(results)\n",
    "\n",
    "# Не забываем закрыть соединение с базой данных\n",
    "conn.close()"
   ]
  },
  {
   "cell_type": "code",
   "execution_count": 98,
   "metadata": {},
   "outputs": [
    {
     "data": {
      "text/plain": [
       "[('Kirill', None, None, 3),\n",
       " ('Kirill', None, None, 3),\n",
       " ('Kirill', None, None, 3),\n",
       " ('Kirill', None, None, 3),\n",
       " (None, None, None, 3)]"
      ]
     },
     "execution_count": 98,
     "metadata": {},
     "output_type": "execute_result"
    }
   ],
   "source": [
    "results"
   ]
  },
  {
   "cell_type": "code",
   "execution_count": null,
   "metadata": {},
   "outputs": [],
   "source": []
  },
  {
   "cell_type": "code",
   "execution_count": 54,
   "metadata": {},
   "outputs": [
    {
     "data": {
      "text/plain": [
       "'name int, surname str'"
      ]
     },
     "execution_count": 54,
     "metadata": {},
     "output_type": "execute_result"
    }
   ],
   "source": [
    "a = ['name int', 'surname str']\n",
    "', '.join(a)"
   ]
  },
  {
   "cell_type": "code",
   "execution_count": 34,
   "metadata": {},
   "outputs": [
    {
     "data": {
      "text/plain": [
       "{'name': 'dsd', 'Surname': None}"
      ]
     },
     "execution_count": 34,
     "metadata": {},
     "output_type": "execute_result"
    }
   ],
   "source": [
    "a"
   ]
  },
  {
   "cell_type": "code",
   "execution_count": 50,
   "metadata": {},
   "outputs": [
    {
     "data": {
      "text/plain": [
       "\"Hello '12'\""
      ]
     },
     "execution_count": 50,
     "metadata": {},
     "output_type": "execute_result"
    }
   ],
   "source": [
    "b = \"12\"\n",
    "if type(b) is str:\n",
    "    stro = f\"Hello '{b}'\"\n",
    "else:\n",
    "    stro = f\"Hello {b}\"\n",
    "stro"
   ]
  },
  {
   "cell_type": "code",
   "execution_count": null,
   "metadata": {},
   "outputs": [],
   "source": []
  }
 ],
 "metadata": {
  "kernelspec": {
   "display_name": "Python 3",
   "language": "python",
   "name": "python3"
  },
  "language_info": {
   "codemirror_mode": {
    "name": "ipython",
    "version": 3
   },
   "file_extension": ".py",
   "mimetype": "text/x-python",
   "name": "python",
   "nbconvert_exporter": "python",
   "pygments_lexer": "ipython3",
   "version": "3.7.4"
  }
 },
 "nbformat": 4,
 "nbformat_minor": 4
}
